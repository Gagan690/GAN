{
  "nbformat": 4,
  "nbformat_minor": 0,
  "metadata": {
    "colab": {
      "provenance": [],
      "gpuType": "T4"
    },
    "kernelspec": {
      "name": "python3",
      "display_name": "Python 3"
    },
    "language_info": {
      "name": "python"
    },
    "accelerator": "GPU"
  },
  "cells": [
    {
      "cell_type": "code",
      "source": [
        "# prerequisites\n",
        "import torch\n",
        "import torch.nn as nn\n",
        "import torch.nn.functional as F\n",
        "import torch.optim as optim\n",
        "from torchvision import datasets, transforms\n",
        "from torch.autograd import Variable\n",
        "from torchvision.utils import save_image\n",
        "\n",
        "# Device configuration\n",
        "device = torch.device('cuda' if torch.cuda.is_available() else 'cpu')"
      ],
      "metadata": {
        "id": "AFniRJSkxjae"
      },
      "execution_count": null,
      "outputs": []
    },
    {
      "cell_type": "code",
      "source": [
        "bs = 100"
      ],
      "metadata": {
        "id": "IIrf-U2zzuyD"
      },
      "execution_count": null,
      "outputs": []
    },
    {
      "cell_type": "code",
      "source": [
        "transform = transforms.Compose([\n",
        "    transforms.ToTensor(),\n",
        "    transforms.Normalize(mean=(0.5), std=(0.5)) # Changed to single values for mean and std\n",
        "])\n",
        "\n",
        "train_dataset = datasets.MNIST(root='./mnist_data/', train=True, transform=transform, download=True)\n",
        "test_dataset = datasets.MNIST(root='./mnist_data/', train=False, transform=transform, download=False)\n",
        "\n",
        "# Data Loader (Input Pipeline)\n",
        "train_loader = torch.utils.data.DataLoader(dataset=train_dataset, batch_size=100, shuffle=True)\n",
        "test_loader = torch.utils.data.DataLoader(dataset=test_dataset, batch_size=100, shuffle=False)"
      ],
      "metadata": {
        "id": "nFeOGAeCx6N_"
      },
      "execution_count": null,
      "outputs": []
    },
    {
      "cell_type": "code",
      "source": [
        "class Generator(nn.Module):\n",
        "    def __init__(self, g_input_dim, g_output_dim):\n",
        "        super(Generator, self).__init__()\n",
        "        self.fc1 = nn.Linear(g_input_dim, 256)\n",
        "        self.fc2 = nn.Linear(self.fc1.out_features, self.fc1.out_features*2)\n",
        "        self.fc3 = nn.Linear(self.fc2.out_features, self.fc2.out_features*2)\n",
        "        self.fc4 = nn.Linear(self.fc3.out_features, g_output_dim)\n",
        "\n",
        "    # forward method\n",
        "    def forward(self, x):\n",
        "        x = F.leaky_relu(self.fc1(x), 0.2)\n",
        "        x = F.leaky_relu(self.fc2(x), 0.2)\n",
        "        x = F.leaky_relu(self.fc3(x), 0.2)\n",
        "        return torch.tanh(self.fc4(x))\n",
        "\n",
        "\n",
        "class Discriminator(nn.Module):\n",
        "    def __init__(self, d_input_dim):\n",
        "        super(Discriminator, self).__init__()\n",
        "        self.fc1 = nn.Linear(d_input_dim, 1024)\n",
        "        self.fc2 = nn.Linear(self.fc1.out_features, self.fc1.out_features//2)\n",
        "        self.fc3 = nn.Linear(self.fc2.out_features, self.fc2.out_features//2)\n",
        "        self.fc4 = nn.Linear(self.fc3.out_features, 1)\n",
        "\n",
        "    # forward method\n",
        "    def forward(self, x):\n",
        "        x = F.leaky_relu(self.fc1(x), 0.2)\n",
        "        x = F.dropout(x, 0.3)\n",
        "        x = F.leaky_relu(self.fc2(x), 0.2)\n",
        "        x = F.dropout(x, 0.3)\n",
        "        x = F.leaky_relu(self.fc3(x), 0.2)\n",
        "        x = F.dropout(x, 0.3)\n",
        "        return torch.sigmoid(self.fc4(x))"
      ],
      "metadata": {
        "id": "hpcDmueQyT5j"
      },
      "execution_count": null,
      "outputs": []
    },
    {
      "cell_type": "code",
      "source": [
        "# build network\n",
        "z_dim = 100\n",
        "mnist_dim = train_dataset.train_data.size(1) * train_dataset.train_data.size(2)\n",
        "\n",
        "G = Generator(g_input_dim = z_dim, g_output_dim = mnist_dim).to(device)\n",
        "D = Discriminator(mnist_dim).to(device)"
      ],
      "metadata": {
        "colab": {
          "base_uri": "https://localhost:8080/"
        },
        "id": "T4q1HHUJzlge",
        "outputId": "26526edb-75e3-454e-a62a-dbf89b010121"
      },
      "execution_count": null,
      "outputs": [
        {
          "output_type": "stream",
          "name": "stderr",
          "text": [
            "/usr/local/lib/python3.12/dist-packages/torchvision/datasets/mnist.py:76: UserWarning: train_data has been renamed data\n",
            "  warnings.warn(\"train_data has been renamed data\")\n"
          ]
        }
      ]
    },
    {
      "cell_type": "code",
      "source": [
        "G"
      ],
      "metadata": {
        "colab": {
          "base_uri": "https://localhost:8080/"
        },
        "id": "0TgkSUyfzxjX",
        "outputId": "75d03962-61e5-4b92-ab01-ba5026595146"
      },
      "execution_count": null,
      "outputs": [
        {
          "output_type": "execute_result",
          "data": {
            "text/plain": [
              "Generator(\n",
              "  (fc1): Linear(in_features=100, out_features=256, bias=True)\n",
              "  (fc2): Linear(in_features=256, out_features=512, bias=True)\n",
              "  (fc3): Linear(in_features=512, out_features=1024, bias=True)\n",
              "  (fc4): Linear(in_features=1024, out_features=784, bias=True)\n",
              ")"
            ]
          },
          "metadata": {},
          "execution_count": 9
        }
      ]
    },
    {
      "cell_type": "code",
      "source": [
        "D"
      ],
      "metadata": {
        "colab": {
          "base_uri": "https://localhost:8080/"
        },
        "id": "M88qAtGtzz8B",
        "outputId": "6d6153ac-a9a9-4d0c-92ea-33584f89d9a4"
      },
      "execution_count": null,
      "outputs": [
        {
          "output_type": "execute_result",
          "data": {
            "text/plain": [
              "Discriminator(\n",
              "  (fc1): Linear(in_features=784, out_features=1024, bias=True)\n",
              "  (fc2): Linear(in_features=1024, out_features=512, bias=True)\n",
              "  (fc3): Linear(in_features=512, out_features=256, bias=True)\n",
              "  (fc4): Linear(in_features=256, out_features=1, bias=True)\n",
              ")"
            ]
          },
          "metadata": {},
          "execution_count": 10
        }
      ]
    },
    {
      "cell_type": "code",
      "source": [
        "# loss\n",
        "criterion = nn.BCELoss()\n",
        "\n",
        "# optimizer\n",
        "lr = 0.0002\n",
        "G_optimizer = optim.Adam(G.parameters(), lr = lr)\n",
        "D_optimizer = optim.Adam(D.parameters(), lr = lr)"
      ],
      "metadata": {
        "id": "XxrUv1ewz1Xj"
      },
      "execution_count": null,
      "outputs": []
    },
    {
      "cell_type": "code",
      "source": [
        "def D_train(x):\n",
        "    #=======================Train the discriminator=======================#\n",
        "    D.zero_grad()\n",
        "\n",
        "    # train discriminator on real\n",
        "    x_real, y_real = x.view(-1, mnist_dim), torch.ones(bs, 1)\n",
        "    x_real, y_real = Variable(x_real.to(device)), Variable(y_real.to(device))\n",
        "\n",
        "    D_output = D(x_real)\n",
        "    D_real_loss = criterion(D_output, y_real)\n",
        "    D_real_score = D_output\n",
        "\n",
        "    # train discriminator on facke\n",
        "    z = Variable(torch.randn(bs, z_dim).to(device))\n",
        "    x_fake, y_fake = G(z), Variable(torch.zeros(bs, 1).to(device))\n",
        "\n",
        "    D_output = D(x_fake)\n",
        "    D_fake_loss = criterion(D_output, y_fake)\n",
        "    D_fake_score = D_output\n",
        "\n",
        "    # gradient backprop & optimize ONLY D's parameters\n",
        "    D_loss = D_real_loss + D_fake_loss\n",
        "    D_loss.backward()\n",
        "    D_optimizer.step()\n",
        "\n",
        "    return  D_loss.data.item()"
      ],
      "metadata": {
        "id": "VE1VCb0Pz6iF"
      },
      "execution_count": null,
      "outputs": []
    },
    {
      "cell_type": "code",
      "source": [
        "\n",
        "def G_train(x):\n",
        "    #=======================Train the generator=======================#\n",
        "    G.zero_grad()\n",
        "\n",
        "    z = Variable(torch.randn(bs, z_dim).to(device))\n",
        "    y = Variable(torch.ones(bs, 1).to(device))\n",
        "\n",
        "    G_output = G(z)\n",
        "    D_output = D(G_output)\n",
        "    G_loss = criterion(D_output, y)\n",
        "\n",
        "    # gradient backprop & optimize ONLY G's parameters\n",
        "    G_loss.backward()\n",
        "    G_optimizer.step()\n",
        "\n",
        "    return G_loss.data.item()"
      ],
      "metadata": {
        "id": "mpObVJAvz8yH"
      },
      "execution_count": null,
      "outputs": []
    },
    {
      "cell_type": "code",
      "source": [
        "n_epoch = 200\n",
        "for epoch in range(1, n_epoch+1):\n",
        "    D_losses, G_losses = [], []\n",
        "    for batch_idx, (x, _) in enumerate(train_loader):\n",
        "        D_losses.append(D_train(x))\n",
        "        G_losses.append(G_train(x))\n",
        "\n",
        "    print('[%d/%d]: loss_d: %.3f, loss_g: %.3f' % (\n",
        "            (epoch), n_epoch, torch.mean(torch.FloatTensor(D_losses)), torch.mean(torch.FloatTensor(G_losses))))"
      ],
      "metadata": {
        "colab": {
          "base_uri": "https://localhost:8080/"
        },
        "id": "s7wmgb8Xz_4G",
        "outputId": "06cf0947-b406-48d0-8252-be1c10475ecb"
      },
      "execution_count": null,
      "outputs": [
        {
          "metadata": {
            "tags": null
          },
          "name": "stdout",
          "output_type": "stream",
          "text": [
            "[1/200]: loss_d: 0.997, loss_g: 2.470\n",
            "[2/200]: loss_d: 1.120, loss_g: 1.474\n",
            "[3/200]: loss_d: 1.054, loss_g: 1.590\n",
            "[4/200]: loss_d: 0.929, loss_g: 2.195\n",
            "[5/200]: loss_d: 0.672, loss_g: 2.364\n",
            "[6/200]: loss_d: 0.527, loss_g: 2.773\n",
            "[7/200]: loss_d: 0.610, loss_g: 2.551\n",
            "[8/200]: loss_d: 0.652, loss_g: 2.356\n",
            "[9/200]: loss_d: 0.633, loss_g: 2.437\n",
            "[10/200]: loss_d: 0.670, loss_g: 2.403\n",
            "[11/200]: loss_d: 0.594, loss_g: 2.537\n",
            "[12/200]: loss_d: 0.648, loss_g: 2.434\n",
            "[13/200]: loss_d: 0.693, loss_g: 2.289\n",
            "[14/200]: loss_d: 0.744, loss_g: 2.084\n",
            "[15/200]: loss_d: 0.744, loss_g: 2.080\n",
            "[16/200]: loss_d: 0.722, loss_g: 2.119\n",
            "[17/200]: loss_d: 0.745, loss_g: 2.006\n",
            "[18/200]: loss_d: 0.811, loss_g: 1.828\n",
            "[19/200]: loss_d: 0.831, loss_g: 1.832\n",
            "[20/200]: loss_d: 0.880, loss_g: 1.640\n",
            "[21/200]: loss_d: 0.916, loss_g: 1.597\n",
            "[22/200]: loss_d: 0.954, loss_g: 1.502\n",
            "[23/200]: loss_d: 0.915, loss_g: 1.562\n",
            "[24/200]: loss_d: 0.974, loss_g: 1.460\n",
            "[25/200]: loss_d: 0.958, loss_g: 1.509\n",
            "[26/200]: loss_d: 0.934, loss_g: 1.562\n",
            "[27/200]: loss_d: 0.938, loss_g: 1.537\n",
            "[28/200]: loss_d: 0.982, loss_g: 1.443\n",
            "[29/200]: loss_d: 0.985, loss_g: 1.431\n",
            "[30/200]: loss_d: 1.020, loss_g: 1.349\n",
            "[31/200]: loss_d: 1.034, loss_g: 1.320\n",
            "[32/200]: loss_d: 1.027, loss_g: 1.352\n",
            "[33/200]: loss_d: 1.014, loss_g: 1.368\n",
            "[34/200]: loss_d: 1.051, loss_g: 1.301\n",
            "[35/200]: loss_d: 1.066, loss_g: 1.266\n",
            "[36/200]: loss_d: 1.063, loss_g: 1.253\n",
            "[37/200]: loss_d: 1.072, loss_g: 1.262\n",
            "[38/200]: loss_d: 1.075, loss_g: 1.244\n",
            "[39/200]: loss_d: 1.074, loss_g: 1.252\n",
            "[40/200]: loss_d: 1.115, loss_g: 1.170\n",
            "[41/200]: loss_d: 1.096, loss_g: 1.204\n",
            "[42/200]: loss_d: 1.121, loss_g: 1.164\n",
            "[43/200]: loss_d: 1.111, loss_g: 1.179\n",
            "[44/200]: loss_d: 1.130, loss_g: 1.143\n",
            "[45/200]: loss_d: 1.135, loss_g: 1.131\n",
            "[46/200]: loss_d: 1.149, loss_g: 1.121\n",
            "[47/200]: loss_d: 1.138, loss_g: 1.119\n",
            "[48/200]: loss_d: 1.145, loss_g: 1.130\n",
            "[49/200]: loss_d: 1.149, loss_g: 1.111\n",
            "[50/200]: loss_d: 1.159, loss_g: 1.084\n",
            "[51/200]: loss_d: 1.167, loss_g: 1.077\n",
            "[52/200]: loss_d: 1.173, loss_g: 1.067\n",
            "[53/200]: loss_d: 1.164, loss_g: 1.072\n",
            "[54/200]: loss_d: 1.182, loss_g: 1.061\n",
            "[55/200]: loss_d: 1.183, loss_g: 1.047\n",
            "[56/200]: loss_d: 1.190, loss_g: 1.037\n",
            "[57/200]: loss_d: 1.185, loss_g: 1.049\n",
            "[58/200]: loss_d: 1.183, loss_g: 1.045\n",
            "[59/200]: loss_d: 1.197, loss_g: 1.019\n",
            "[60/200]: loss_d: 1.194, loss_g: 1.039\n",
            "[61/200]: loss_d: 1.187, loss_g: 1.052\n",
            "[62/200]: loss_d: 1.203, loss_g: 1.018\n",
            "[63/200]: loss_d: 1.201, loss_g: 1.020\n",
            "[64/200]: loss_d: 1.203, loss_g: 1.023\n",
            "[65/200]: loss_d: 1.193, loss_g: 1.026\n",
            "[66/200]: loss_d: 1.207, loss_g: 1.002\n",
            "[67/200]: loss_d: 1.215, loss_g: 0.991\n",
            "[68/200]: loss_d: 1.215, loss_g: 0.986\n",
            "[69/200]: loss_d: 1.216, loss_g: 0.992\n",
            "[70/200]: loss_d: 1.209, loss_g: 0.996\n",
            "[71/200]: loss_d: 1.213, loss_g: 0.997\n",
            "[72/200]: loss_d: 1.220, loss_g: 0.975\n",
            "[73/200]: loss_d: 1.217, loss_g: 0.988\n",
            "[74/200]: loss_d: 1.224, loss_g: 0.971\n",
            "[75/200]: loss_d: 1.213, loss_g: 0.996\n",
            "[76/200]: loss_d: 1.223, loss_g: 0.980\n",
            "[77/200]: loss_d: 1.228, loss_g: 0.971\n",
            "[78/200]: loss_d: 1.235, loss_g: 0.955\n",
            "[79/200]: loss_d: 1.239, loss_g: 0.957\n",
            "[80/200]: loss_d: 1.239, loss_g: 0.956\n",
            "[81/200]: loss_d: 1.225, loss_g: 0.968\n",
            "[82/200]: loss_d: 1.237, loss_g: 0.948\n",
            "[83/200]: loss_d: 1.233, loss_g: 0.969\n",
            "[84/200]: loss_d: 1.229, loss_g: 0.970\n",
            "[85/200]: loss_d: 1.239, loss_g: 0.955\n",
            "[86/200]: loss_d: 1.243, loss_g: 0.940\n",
            "[87/200]: loss_d: 1.243, loss_g: 0.945\n",
            "[88/200]: loss_d: 1.238, loss_g: 0.961\n",
            "[89/200]: loss_d: 1.243, loss_g: 0.949\n",
            "[90/200]: loss_d: 1.240, loss_g: 0.948\n",
            "[91/200]: loss_d: 1.250, loss_g: 0.929\n",
            "[92/200]: loss_d: 1.252, loss_g: 0.929\n",
            "[93/200]: loss_d: 1.252, loss_g: 0.930\n",
            "[94/200]: loss_d: 1.252, loss_g: 0.941\n",
            "[95/200]: loss_d: 1.249, loss_g: 0.932\n",
            "[96/200]: loss_d: 1.258, loss_g: 0.913\n",
            "[97/200]: loss_d: 1.257, loss_g: 0.923\n",
            "[98/200]: loss_d: 1.247, loss_g: 0.940\n",
            "[99/200]: loss_d: 1.250, loss_g: 0.934\n",
            "[100/200]: loss_d: 1.256, loss_g: 0.920\n",
            "[101/200]: loss_d: 1.255, loss_g: 0.922\n",
            "[102/200]: loss_d: 1.260, loss_g: 0.923\n",
            "[103/200]: loss_d: 1.260, loss_g: 0.920\n",
            "[104/200]: loss_d: 1.258, loss_g: 0.915\n",
            "[105/200]: loss_d: 1.254, loss_g: 0.928\n",
            "[106/200]: loss_d: 1.262, loss_g: 0.918\n",
            "[107/200]: loss_d: 1.261, loss_g: 0.917\n",
            "[108/200]: loss_d: 1.261, loss_g: 0.914\n",
            "[109/200]: loss_d: 1.263, loss_g: 0.914\n",
            "[110/200]: loss_d: 1.269, loss_g: 0.896\n",
            "[111/200]: loss_d: 1.268, loss_g: 0.906\n",
            "[112/200]: loss_d: 1.271, loss_g: 0.898\n",
            "[113/200]: loss_d: 1.261, loss_g: 0.909\n",
            "[114/200]: loss_d: 1.263, loss_g: 0.917\n",
            "[115/200]: loss_d: 1.264, loss_g: 0.903\n",
            "[116/200]: loss_d: 1.271, loss_g: 0.904\n",
            "[117/200]: loss_d: 1.268, loss_g: 0.906\n",
            "[118/200]: loss_d: 1.270, loss_g: 0.891\n",
            "[119/200]: loss_d: 1.268, loss_g: 0.903\n",
            "[120/200]: loss_d: 1.265, loss_g: 0.912\n",
            "[121/200]: loss_d: 1.258, loss_g: 0.924\n",
            "[122/200]: loss_d: 1.273, loss_g: 0.889\n",
            "[123/200]: loss_d: 1.279, loss_g: 0.888\n",
            "[124/200]: loss_d: 1.272, loss_g: 0.896\n",
            "[125/200]: loss_d: 1.280, loss_g: 0.884\n",
            "[126/200]: loss_d: 1.277, loss_g: 0.895\n",
            "[127/200]: loss_d: 1.273, loss_g: 0.886\n",
            "[128/200]: loss_d: 1.276, loss_g: 0.888\n",
            "[129/200]: loss_d: 1.274, loss_g: 0.892\n",
            "[130/200]: loss_d: 1.281, loss_g: 0.880\n",
            "[131/200]: loss_d: 1.280, loss_g: 0.891\n",
            "[132/200]: loss_d: 1.271, loss_g: 0.896\n",
            "[133/200]: loss_d: 1.272, loss_g: 0.895\n",
            "[134/200]: loss_d: 1.274, loss_g: 0.890\n",
            "[135/200]: loss_d: 1.275, loss_g: 0.894\n",
            "[136/200]: loss_d: 1.277, loss_g: 0.889\n",
            "[137/200]: loss_d: 1.277, loss_g: 0.890\n",
            "[138/200]: loss_d: 1.276, loss_g: 0.889\n",
            "[139/200]: loss_d: 1.282, loss_g: 0.877\n",
            "[140/200]: loss_d: 1.276, loss_g: 0.893\n",
            "[141/200]: loss_d: 1.278, loss_g: 0.881\n",
            "[142/200]: loss_d: 1.285, loss_g: 0.879\n",
            "[143/200]: loss_d: 1.286, loss_g: 0.872\n",
            "[144/200]: loss_d: 1.282, loss_g: 0.884\n",
            "[145/200]: loss_d: 1.287, loss_g: 0.871\n",
            "[146/200]: loss_d: 1.283, loss_g: 0.874\n",
            "[147/200]: loss_d: 1.287, loss_g: 0.871\n",
            "[148/200]: loss_d: 1.287, loss_g: 0.874\n",
            "[149/200]: loss_d: 1.290, loss_g: 0.871\n",
            "[150/200]: loss_d: 1.282, loss_g: 0.894\n",
            "[151/200]: loss_d: 1.277, loss_g: 0.893\n",
            "[152/200]: loss_d: 1.280, loss_g: 0.885\n",
            "[153/200]: loss_d: 1.282, loss_g: 0.883\n",
            "[154/200]: loss_d: 1.291, loss_g: 0.865\n",
            "[155/200]: loss_d: 1.280, loss_g: 0.883\n",
            "[156/200]: loss_d: 1.282, loss_g: 0.874\n",
            "[157/200]: loss_d: 1.289, loss_g: 0.870\n",
            "[158/200]: loss_d: 1.285, loss_g: 0.875\n",
            "[159/200]: loss_d: 1.288, loss_g: 0.870\n",
            "[160/200]: loss_d: 1.283, loss_g: 0.878\n",
            "[161/200]: loss_d: 1.285, loss_g: 0.871\n",
            "[162/200]: loss_d: 1.286, loss_g: 0.866\n",
            "[163/200]: loss_d: 1.290, loss_g: 0.869\n",
            "[164/200]: loss_d: 1.290, loss_g: 0.865\n",
            "[165/200]: loss_d: 1.286, loss_g: 0.883\n",
            "[166/200]: loss_d: 1.286, loss_g: 0.872\n",
            "[167/200]: loss_d: 1.288, loss_g: 0.865\n",
            "[168/200]: loss_d: 1.288, loss_g: 0.868\n",
            "[169/200]: loss_d: 1.285, loss_g: 0.877\n",
            "[170/200]: loss_d: 1.286, loss_g: 0.869\n",
            "[171/200]: loss_d: 1.289, loss_g: 0.864\n",
            "[172/200]: loss_d: 1.287, loss_g: 0.869\n",
            "[173/200]: loss_d: 1.290, loss_g: 0.868\n",
            "[174/200]: loss_d: 1.283, loss_g: 0.876\n",
            "[175/200]: loss_d: 1.287, loss_g: 0.878\n",
            "[176/200]: loss_d: 1.283, loss_g: 0.880\n",
            "[177/200]: loss_d: 1.288, loss_g: 0.874\n",
            "[178/200]: loss_d: 1.285, loss_g: 0.878\n",
            "[179/200]: loss_d: 1.288, loss_g: 0.874\n",
            "[180/200]: loss_d: 1.291, loss_g: 0.863\n",
            "[181/200]: loss_d: 1.296, loss_g: 0.846\n",
            "[182/200]: loss_d: 1.288, loss_g: 0.875\n",
            "[183/200]: loss_d: 1.292, loss_g: 0.868\n",
            "[184/200]: loss_d: 1.294, loss_g: 0.855\n",
            "[185/200]: loss_d: 1.291, loss_g: 0.870\n",
            "[186/200]: loss_d: 1.290, loss_g: 0.863\n",
            "[187/200]: loss_d: 1.289, loss_g: 0.877\n",
            "[188/200]: loss_d: 1.297, loss_g: 0.851\n",
            "[189/200]: loss_d: 1.295, loss_g: 0.858\n",
            "[190/200]: loss_d: 1.300, loss_g: 0.859\n",
            "[191/200]: loss_d: 1.295, loss_g: 0.860\n",
            "[192/200]: loss_d: 1.295, loss_g: 0.858\n",
            "[193/200]: loss_d: 1.290, loss_g: 0.871\n",
            "[194/200]: loss_d: 1.295, loss_g: 0.866\n",
            "[195/200]: loss_d: 1.294, loss_g: 0.860\n",
            "[196/200]: loss_d: 1.287, loss_g: 0.874\n",
            "[197/200]: loss_d: 1.287, loss_g: 0.866\n",
            "[198/200]: loss_d: 1.299, loss_g: 0.852\n",
            "[199/200]: loss_d: 1.296, loss_g: 0.857\n",
            "[200/200]: loss_d: 1.297, loss_g: 0.848\n"
          ]
        }
      ]
    },
    {
      "cell_type": "code",
      "source": [
        "import matplotlib.pyplot as plt\n",
        "import numpy as np\n",
        "\n",
        "# Generate a random noise vector\n",
        "z = torch.randn(1, z_dim).to(device)\n",
        "\n",
        "# Generate an image using the generator\n",
        "G.eval() # Set the generator to evaluation mode\n",
        "with torch.no_grad():\n",
        "    generated_image = G(z).view(28, 28).cpu().numpy()\n",
        "\n",
        "# Display the generated image\n",
        "plt.imshow(generated_image, cmap='gray')\n",
        "plt.title(\"Generated Image\")\n",
        "plt.axis(\"off\")\n",
        "plt.show()"
      ],
      "metadata": {
        "colab": {
          "base_uri": "https://localhost:8080/",
          "height": 428
        },
        "id": "xx8-Xgok0a7D",
        "outputId": "2472cb51-5d8c-4df3-eec3-d5dbff574878"
      },
      "execution_count": null,
      "outputs": [
        {
          "output_type": "display_data",
          "data": {
            "text/plain": [
              "<Figure size 640x480 with 1 Axes>"
            ],
            "image/png": "[encoded data removed]"
          },
          "metadata": {}
        }
      ]
    },
    {
      "cell_type": "code",
      "source": [
        "import torch\n",
        "\n",
        "# Define the path to save the model\n",
        "model_save_path = 'generator_model.pth'\n",
        "\n",
        "# Save the generator's state dictionary\n",
        "torch.save(G.state_dict(), model_save_path)\n",
        "\n",
        "print(f\"Generator model saved to {model_save_path}\")"
      ],
      "metadata": {
        "colab": {
          "base_uri": "https://localhost:8080/"
        },
        "id": "ptmG4Cai-qPs",
        "outputId": "0655a5ed-8cfc-4f5e-ac95-943c6e1c98e7"
      },
      "execution_count": null,
      "outputs": [
        {
          "output_type": "stream",
          "name": "stdout",
          "text": [
            "Generator model saved to generator_model.pth\n"
          ]
        }
      ]
    }
  ]
}